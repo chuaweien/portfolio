{
 "cells": [
  {
   "cell_type": "markdown",
   "id": "9b596823",
   "metadata": {},
   "source": [
    "### Importing Libraries"
   ]
  },
  {
   "cell_type": "code",
   "execution_count": 2,
   "id": "dbf9ed36",
   "metadata": {},
   "outputs": [],
   "source": [
    "import numpy as np\n",
    "import pandas as pd\n",
    "import matplotlib.pyplot as plt\n",
    "from keras.preprocessing.image import ImageDataGenerator, load_img, array_to_img, img_to_array"
   ]
  },
  {
   "cell_type": "markdown",
   "id": "c3cb428e",
   "metadata": {},
   "source": [
    "### Prepare Dataframe"
   ]
  },
  {
   "cell_type": "code",
   "execution_count": 3,
   "id": "c0a52c34",
   "metadata": {},
   "outputs": [],
   "source": [
    "IMAGE_SIZE = (150,150)\n",
    "INPUT_SHAPE = (150,150,3)\n",
    "TRAIN_FILEPATH = \"dogs-vs-cats/train/train\"\n",
    "BATCH_SIZE=16\n",
    "\n",
    "TEST_FILEPATH = \"dogs-vs-cats/test1/test1\""
   ]
  },
  {
   "cell_type": "code",
   "execution_count": 4,
   "id": "4520dc33",
   "metadata": {
    "scrolled": true
   },
   "outputs": [
    {
     "data": {
      "text/html": [
       "<div>\n",
       "<style scoped>\n",
       "    .dataframe tbody tr th:only-of-type {\n",
       "        vertical-align: middle;\n",
       "    }\n",
       "\n",
       "    .dataframe tbody tr th {\n",
       "        vertical-align: top;\n",
       "    }\n",
       "\n",
       "    .dataframe thead th {\n",
       "        text-align: right;\n",
       "    }\n",
       "</style>\n",
       "<table border=\"1\" class=\"dataframe\">\n",
       "  <thead>\n",
       "    <tr style=\"text-align: right;\">\n",
       "      <th></th>\n",
       "      <th>filename</th>\n",
       "      <th>Dog</th>\n",
       "    </tr>\n",
       "  </thead>\n",
       "  <tbody>\n",
       "    <tr>\n",
       "      <th>0</th>\n",
       "      <td>cat.0.jpg</td>\n",
       "      <td>0</td>\n",
       "    </tr>\n",
       "    <tr>\n",
       "      <th>1</th>\n",
       "      <td>cat.1.jpg</td>\n",
       "      <td>0</td>\n",
       "    </tr>\n",
       "    <tr>\n",
       "      <th>2</th>\n",
       "      <td>cat.10.jpg</td>\n",
       "      <td>0</td>\n",
       "    </tr>\n",
       "    <tr>\n",
       "      <th>3</th>\n",
       "      <td>cat.100.jpg</td>\n",
       "      <td>0</td>\n",
       "    </tr>\n",
       "    <tr>\n",
       "      <th>4</th>\n",
       "      <td>cat.1000.jpg</td>\n",
       "      <td>0</td>\n",
       "    </tr>\n",
       "    <tr>\n",
       "      <th>...</th>\n",
       "      <td>...</td>\n",
       "      <td>...</td>\n",
       "    </tr>\n",
       "    <tr>\n",
       "      <th>12505</th>\n",
       "      <td>dog.10000.jpg</td>\n",
       "      <td>1</td>\n",
       "    </tr>\n",
       "    <tr>\n",
       "      <th>12506</th>\n",
       "      <td>dog.10001.jpg</td>\n",
       "      <td>1</td>\n",
       "    </tr>\n",
       "    <tr>\n",
       "      <th>12507</th>\n",
       "      <td>dog.10002.jpg</td>\n",
       "      <td>1</td>\n",
       "    </tr>\n",
       "    <tr>\n",
       "      <th>12508</th>\n",
       "      <td>dog.10003.jpg</td>\n",
       "      <td>1</td>\n",
       "    </tr>\n",
       "    <tr>\n",
       "      <th>12509</th>\n",
       "      <td>dog.10004.jpg</td>\n",
       "      <td>1</td>\n",
       "    </tr>\n",
       "  </tbody>\n",
       "</table>\n",
       "<p>12510 rows × 2 columns</p>\n",
       "</div>"
      ],
      "text/plain": [
       "            filename  Dog\n",
       "0          cat.0.jpg    0\n",
       "1          cat.1.jpg    0\n",
       "2         cat.10.jpg    0\n",
       "3        cat.100.jpg    0\n",
       "4       cat.1000.jpg    0\n",
       "...              ...  ...\n",
       "12505  dog.10000.jpg    1\n",
       "12506  dog.10001.jpg    1\n",
       "12507  dog.10002.jpg    1\n",
       "12508  dog.10003.jpg    1\n",
       "12509  dog.10004.jpg    1\n",
       "\n",
       "[12510 rows x 2 columns]"
      ]
     },
     "execution_count": 4,
     "metadata": {},
     "output_type": "execute_result"
    }
   ],
   "source": [
    "#train dataset\n",
    "import os\n",
    "train_filenames = os.listdir(TRAIN_FILEPATH)\n",
    "train_dict = {}\n",
    "\n",
    "for filename in train_filenames:\n",
    "    if \"dog\" in filename:\n",
    "        train_dict[filename] = 1\n",
    "    else:\n",
    "        train_dict[filename] = 0\n",
    "\n",
    "train_df = pd.DataFrame(train_dict.items(),\n",
    "                                 columns=['filename' ,'Dog'])\n",
    "train_df.head(12510)"
   ]
  },
  {
   "cell_type": "code",
   "execution_count": 5,
   "id": "14e2b8c0",
   "metadata": {},
   "outputs": [
    {
     "data": {
      "text/html": [
       "<div>\n",
       "<style scoped>\n",
       "    .dataframe tbody tr th:only-of-type {\n",
       "        vertical-align: middle;\n",
       "    }\n",
       "\n",
       "    .dataframe tbody tr th {\n",
       "        vertical-align: top;\n",
       "    }\n",
       "\n",
       "    .dataframe thead th {\n",
       "        text-align: right;\n",
       "    }\n",
       "</style>\n",
       "<table border=\"1\" class=\"dataframe\">\n",
       "  <thead>\n",
       "    <tr style=\"text-align: right;\">\n",
       "      <th></th>\n",
       "      <th>filename</th>\n",
       "      <th>Dog</th>\n",
       "    </tr>\n",
       "  </thead>\n",
       "  <tbody>\n",
       "    <tr>\n",
       "      <th>0</th>\n",
       "      <td>cat.0.jpg</td>\n",
       "      <td>cat</td>\n",
       "    </tr>\n",
       "    <tr>\n",
       "      <th>1</th>\n",
       "      <td>cat.1.jpg</td>\n",
       "      <td>cat</td>\n",
       "    </tr>\n",
       "    <tr>\n",
       "      <th>2</th>\n",
       "      <td>cat.10.jpg</td>\n",
       "      <td>cat</td>\n",
       "    </tr>\n",
       "    <tr>\n",
       "      <th>3</th>\n",
       "      <td>cat.100.jpg</td>\n",
       "      <td>cat</td>\n",
       "    </tr>\n",
       "    <tr>\n",
       "      <th>4</th>\n",
       "      <td>cat.1000.jpg</td>\n",
       "      <td>cat</td>\n",
       "    </tr>\n",
       "    <tr>\n",
       "      <th>...</th>\n",
       "      <td>...</td>\n",
       "      <td>...</td>\n",
       "    </tr>\n",
       "    <tr>\n",
       "      <th>12505</th>\n",
       "      <td>dog.10000.jpg</td>\n",
       "      <td>dog</td>\n",
       "    </tr>\n",
       "    <tr>\n",
       "      <th>12506</th>\n",
       "      <td>dog.10001.jpg</td>\n",
       "      <td>dog</td>\n",
       "    </tr>\n",
       "    <tr>\n",
       "      <th>12507</th>\n",
       "      <td>dog.10002.jpg</td>\n",
       "      <td>dog</td>\n",
       "    </tr>\n",
       "    <tr>\n",
       "      <th>12508</th>\n",
       "      <td>dog.10003.jpg</td>\n",
       "      <td>dog</td>\n",
       "    </tr>\n",
       "    <tr>\n",
       "      <th>12509</th>\n",
       "      <td>dog.10004.jpg</td>\n",
       "      <td>dog</td>\n",
       "    </tr>\n",
       "  </tbody>\n",
       "</table>\n",
       "<p>12510 rows × 2 columns</p>\n",
       "</div>"
      ],
      "text/plain": [
       "            filename  Dog\n",
       "0          cat.0.jpg  cat\n",
       "1          cat.1.jpg  cat\n",
       "2         cat.10.jpg  cat\n",
       "3        cat.100.jpg  cat\n",
       "4       cat.1000.jpg  cat\n",
       "...              ...  ...\n",
       "12505  dog.10000.jpg  dog\n",
       "12506  dog.10001.jpg  dog\n",
       "12507  dog.10002.jpg  dog\n",
       "12508  dog.10003.jpg  dog\n",
       "12509  dog.10004.jpg  dog\n",
       "\n",
       "[12510 rows x 2 columns]"
      ]
     },
     "execution_count": 5,
     "metadata": {},
     "output_type": "execute_result"
    }
   ],
   "source": [
    "train_df[\"Dog\"].replace({0:\"cat\", 1:\"dog\"}, inplace=True)\n",
    "train_df.head(12510)"
   ]
  },
  {
   "cell_type": "code",
   "execution_count": 6,
   "id": "e81d63bb",
   "metadata": {},
   "outputs": [
    {
     "data": {
      "text/plain": [
       "<AxesSubplot:>"
      ]
     },
     "execution_count": 6,
     "metadata": {},
     "output_type": "execute_result"
    },
    {
     "data": {
      "image/png": "[encoded data removed]",
      "text/plain": [
       "<Figure size 432x288 with 1 Axes>"
      ]
     },
     "metadata": {
      "needs_background": "light"
     },
     "output_type": "display_data"
    }
   ],
   "source": [
    "#analyse the data\n",
    "train_df.Dog.value_counts().plot.bar()"
   ]
  },
  {
   "cell_type": "code",
   "execution_count": 7,
   "id": "e4c55352",
   "metadata": {},
   "outputs": [
    {
     "name": "stdout",
     "output_type": "stream",
     "text": [
      "training_df shape:  (20000, 2)\n",
      "validation_df shape:  (5000, 2)\n"
     ]
    }
   ],
   "source": [
    "#split into train and test sets\n",
    "from sklearn.model_selection import train_test_split\n",
    "\n",
    "training_df, validation_df = train_test_split(train_df, \n",
    "                                              test_size=0.2,\n",
    "                                             random_state=1)\n",
    "\n",
    "print(\"training_df shape: \", training_df.shape)\n",
    "print(\"validation_df shape: \", validation_df.shape)"
   ]
  },
  {
   "cell_type": "code",
   "execution_count": 8,
   "id": "4eacb45f",
   "metadata": {},
   "outputs": [],
   "source": [
    "#augmentation configuration for training\n",
    "train_datagen = ImageDataGenerator(\n",
    "rotation_range=15,\n",
    "rescale=1./255,\n",
    "shear_range=0.1,\n",
    "zoom_range=0.2,\n",
    "horizontal_flip=True,\n",
    "width_shift_range=0.1,\n",
    "height_shift_range=0.1)\n",
    "\n",
    "#augmentation example for one image\n",
    "img = load_img(\"dogs-vs-cats/train/train/cat.0.jpg\")\n",
    "x = img_to_array(img) #numpy array with shape (3, 150, 150)\n",
    "x = x.reshape(1, x.shape[0], x.shape[1], x.shape[2])\n",
    "\n",
    "# the .flow() command below generates batches of randomly transformed images\n",
    "# and saves the results to the 'preview/' directory\n",
    "\n",
    "i=0\n",
    "for batch in train_datagen.flow(x, batch_size=1,\n",
    "                               save_to_dir=\"dogs-vs-cats/preview\",\n",
    "                               save_prefix=\"cat\",\n",
    "                               save_format=\"jpg\"):\n",
    "    i += 1\n",
    "    if i > 20:\n",
    "        break #otherwise the generator would loop indefinitely\n"
   ]
  },
  {
   "cell_type": "code",
   "execution_count": 9,
   "id": "991b367c",
   "metadata": {},
   "outputs": [
    {
     "name": "stdout",
     "output_type": "stream",
     "text": [
      "Found 20000 validated image filenames belonging to 2 classes.\n",
      "Found 5000 validated image filenames belonging to 2 classes.\n"
     ]
    }
   ],
   "source": [
    "\"\"\"\n",
    "this is a generator that will read pictures found in subfolders of \"dogs-vs-cats/train/train\", and will\n",
    "indefinitely generate batches of augmented image data\n",
    "\"\"\"\n",
    "train_generator = train_datagen.flow_from_dataframe(\n",
    "    dataframe=training_df,\n",
    "    directory=TRAIN_FILEPATH,\n",
    "    target_size = IMAGE_SIZE,\n",
    "    batch_size = BATCH_SIZE,\n",
    "    x_col=\"filename\",\n",
    "    y_col=\"Dog\",\n",
    "    class_mode = \"categorical\" #binary, categorical, sparse, input, None, raw\n",
    ")\n",
    "\n",
    "#augmentation configuration used for testing. only rescaling\n",
    "test_datagen = ImageDataGenerator(rescale=1./255)\n",
    "\n",
    "#this is for validation data\n",
    "validation_generator = test_datagen.flow_from_dataframe(\n",
    "    dataframe=validation_df,\n",
    "    directory=TRAIN_FILEPATH,\n",
    "    target_size = IMAGE_SIZE,\n",
    "    batch_size = BATCH_SIZE,\n",
    "    x_col=\"filename\",\n",
    "    y_col=\"Dog\",\n",
    "    class_mode = \"categorical\"\n",
    ")"
   ]
  },
  {
   "cell_type": "markdown",
   "id": "cd8bd8fa",
   "metadata": {},
   "source": [
    "### Build CNN Model"
   ]
  },
  {
   "cell_type": "code",
   "execution_count": 10,
   "id": "1332d029",
   "metadata": {},
   "outputs": [
    {
     "name": "stdout",
     "output_type": "stream",
     "text": [
      "Model: \"sequential\"\n",
      "_________________________________________________________________\n",
      "Layer (type)                 Output Shape              Param #   \n",
      "=================================================================\n",
      "conv2d (Conv2D)              (None, 148, 148, 32)      896       \n",
      "_________________________________________________________________\n",
      "conv2d_1 (Conv2D)            (None, 146, 146, 64)      18496     \n",
      "_________________________________________________________________\n",
      "max_pooling2d (MaxPooling2D) (None, 73, 73, 64)        0         \n",
      "_________________________________________________________________\n",
      "dropout (Dropout)            (None, 73, 73, 64)        0         \n",
      "_________________________________________________________________\n",
      "conv2d_2 (Conv2D)            (None, 71, 71, 128)       73856     \n",
      "_________________________________________________________________\n",
      "conv2d_3 (Conv2D)            (None, 69, 69, 256)       295168    \n",
      "_________________________________________________________________\n",
      "max_pooling2d_1 (MaxPooling2 (None, 34, 34, 256)       0         \n",
      "_________________________________________________________________\n",
      "dropout_1 (Dropout)          (None, 34, 34, 256)       0         \n",
      "_________________________________________________________________\n",
      "flatten (Flatten)            (None, 295936)            0         \n",
      "_________________________________________________________________\n",
      "dense (Dense)                (None, 2)                 591874    \n",
      "=================================================================\n",
      "Total params: 980,290\n",
      "Trainable params: 980,290\n",
      "Non-trainable params: 0\n",
      "_________________________________________________________________\n"
     ]
    }
   ],
   "source": [
    "from keras.models import Sequential\n",
    "from keras.layers import Dense, Conv2D, Flatten, MaxPooling2D, Dropout\n",
    "\n",
    "model=Sequential()\n",
    "\n",
    "model.add(Conv2D(32, kernel_size=3, activation=\"relu\", input_shape=INPUT_SHAPE))\n",
    "model.add(Conv2D(64, kernel_size=3, activation=\"relu\"))\n",
    "model.add(MaxPooling2D(pool_size=(2,2)))\n",
    "model.add(Dropout(0.25))\n",
    "\n",
    "model.add(Conv2D(128, kernel_size=3, activation=\"relu\"))\n",
    "model.add(Conv2D(256, kernel_size=3, activation=\"relu\"))\n",
    "model.add(MaxPooling2D(pool_size=(2,2)))\n",
    "model.add(Dropout(0.25))\n",
    "\n",
    "model.add(Flatten())\n",
    "model.add(Dense(2, activation=\"softmax\"))\n",
    "\n",
    "model.compile(optimizer=\"rmsprop\", loss=\"categorical_crossentropy\", metrics=[\"accuracy\"])\n",
    "\n",
    "model.summary()"
   ]
  },
  {
   "cell_type": "markdown",
   "id": "520efc29",
   "metadata": {},
   "source": [
    "### Callbacks"
   ]
  },
  {
   "cell_type": "code",
   "execution_count": 11,
   "id": "eb7cf282",
   "metadata": {},
   "outputs": [],
   "source": [
    "from keras.callbacks import EarlyStopping\n",
    "earlyStop = EarlyStopping(monitor=\"val_loss\",\n",
    "                         min_delta=0.001,\n",
    "                         patience=5,\n",
    "                         restore_best_weights=True)"
   ]
  },
  {
   "cell_type": "markdown",
   "id": "9e82ccaa",
   "metadata": {},
   "source": [
    "### Fit the model"
   ]
  },
  {
   "cell_type": "code",
   "execution_count": 16,
   "id": "839bc037",
   "metadata": {},
   "outputs": [
    {
     "name": "stdout",
     "output_type": "stream",
     "text": [
      "Epoch 1/50\n",
      "1250/1250 [==============================] - 973s 779ms/step - loss: 0.5306 - accuracy: 0.7512 - val_loss: 0.6186 - val_accuracy: 0.7558\n",
      "Epoch 2/50\n",
      "1250/1250 [==============================] - 993s 794ms/step - loss: 0.5345 - accuracy: 0.7518 - val_loss: 0.4647 - val_accuracy: 0.7994\n",
      "Epoch 3/50\n",
      "1250/1250 [==============================] - 999s 799ms/step - loss: 0.5606 - accuracy: 0.7476 - val_loss: 0.5602 - val_accuracy: 0.6946\n",
      "Epoch 4/50\n",
      "1250/1250 [==============================] - 996s 796ms/step - loss: 0.5945 - accuracy: 0.7284 - val_loss: 0.9528 - val_accuracy: 0.6714\n",
      "Epoch 5/50\n",
      "1250/1250 [==============================] - 988s 790ms/step - loss: 0.6557 - accuracy: 0.6995 - val_loss: 0.5939 - val_accuracy: 0.7012\n",
      "Epoch 6/50\n",
      "1250/1250 [==============================] - 991s 793ms/step - loss: 0.6956 - accuracy: 0.6704 - val_loss: 0.5773 - val_accuracy: 0.7254\n",
      "Epoch 7/50\n",
      "1250/1250 [==============================] - 984s 787ms/step - loss: 0.7368 - accuracy: 0.6196 - val_loss: 0.6797 - val_accuracy: 0.6318\n"
     ]
    }
   ],
   "source": [
    "history = model.fit(train_generator,\n",
    "         batch_size=BATCH_SIZE,\n",
    "         epochs=50,\n",
    "         verbose=1,\n",
    "         validation_data=validation_generator,\n",
    "         callbacks=earlyStop)"
   ]
  },
  {
   "cell_type": "markdown",
   "id": "ccfd4f8c",
   "metadata": {},
   "source": [
    "### Training model history"
   ]
  },
  {
   "cell_type": "code",
   "execution_count": 20,
   "id": "455b224e",
   "metadata": {},
   "outputs": [
    {
     "data": {
      "image/png": "[encoded data removed]",
      "text/plain": [
       "<Figure size 864x864 with 2 Axes>"
      ]
     },
     "metadata": {
      "needs_background": "light"
     },
     "output_type": "display_data"
    }
   ],
   "source": [
    "fig, (ax1, ax2) = plt.subplots(2,1, figsize=(12, 12))\n",
    "\n",
    "ax1.plot(history.history['loss'], color='b', label=\"Training Loss\")\n",
    "ax1.plot(history.history['val_loss'], color='r', label=\"Validation Loss\")\n",
    "ax1.set_xticks(np.arange(1, 7, 1))\n",
    "ax1.set_yticks(np.arange(0,1,0.1))\n",
    "\n",
    "ax2.plot(history.history['accuracy'], color='b', label=\"Training accuracy\")\n",
    "ax2.plot(history.history['val_accuracy'], color='r', label=\"Validation accuracy\")\n",
    "ax2.set_xticks(np.arange(1, 7, 1))\n",
    "\n",
    "plt.legend()\n",
    "plt.tight_layout()\n",
    "plt.show()"
   ]
  },
  {
   "cell_type": "code",
   "execution_count": null,
   "id": "d771f8b5",
   "metadata": {},
   "outputs": [],
   "source": []
  }
 ],
 "metadata": {
  "kernelspec": {
   "display_name": "Python 3 (ipykernel)",
   "language": "python",
   "name": "python3"
  },
  "language_info": {
   "codemirror_mode": {
    "name": "ipython",
    "version": 3
   },
   "file_extension": ".py",
   "mimetype": "text/x-python",
   "name": "python",
   "nbconvert_exporter": "python",
   "pygments_lexer": "ipython3",
   "version": "3.7.6"
  }
 },
 "nbformat": 4,
 "nbformat_minor": 5
}
